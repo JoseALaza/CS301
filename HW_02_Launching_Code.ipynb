{
 "cells": [
  {
   "cell_type": "code",
   "execution_count": 1,
   "metadata": {},
   "outputs": [],
   "source": [
    "# Author: Jose (Alonso) Lazarte\n",
    "# Date: 20200129\n",
    "# CS301-006, Professor Watson\n",
    "# HW02 Solution\n",
    "# Differences of methods to find the 5-number summary via self meade code or imported methods.\n",
    "# https://github.com/JoseALaza/CS301\n",
    "# https://github.com/JoseALaza/CS301/HW_02_Launching_Code.ipynb/2c433de9644c6494566f86e5408319242d0ed5fb\n",
    "# master"
   ]
  },
  {
   "cell_type": "markdown",
   "metadata": {},
   "source": [
    "## HW 02 - Base Code to Start"
   ]
  },
  {
   "cell_type": "markdown",
   "metadata": {},
   "source": [
    "#### Use these two samples to test your functions"
   ]
  },
  {
   "cell_type": "code",
   "execution_count": 2,
   "metadata": {},
   "outputs": [],
   "source": [
    "grades = [0, 0, 14, 35, 63, 66, 75, 77, 78, 80, 81, 81, 87, 89, 90, 91, 100]"
   ]
  },
  {
   "cell_type": "code",
   "execution_count": 3,
   "metadata": {},
   "outputs": [],
   "source": [
    "times = [5, 10, 10, 15, 15, 15, 15, 20, 20, 20, 25, 30, 30, 40, 40, 45, 60, 60, 65, 89]"
   ]
  },
  {
   "cell_type": "markdown",
   "metadata": {},
   "source": [
    "### Please answer Problem 2 below:"
   ]
  },
  {
   "cell_type": "code",
   "execution_count": 4,
   "metadata": {},
   "outputs": [],
   "source": [
    "import numpy as np\n",
    "def q_summary_V1 (numbers):\n",
    "    d = {}\n",
    "    outliers = []\n",
    "    d['Min']= np.quantile(numbers, 0)\n",
    "    d['Q1'] = np.quantile(numbers, .25)\n",
    "    d['Q2'] = np.quantile(numbers, .50)\n",
    "    d['Q3'] = np.quantile(numbers, .75)\n",
    "    d['Max']= np.quantile(numbers, 1)\n",
    "    \n",
    "    IQR = d['Q3'] - d['Q1']\n",
    "    lowerWhisk = d['Q1'] - IQR*1.5\n",
    "    upperWhisk = d['Q3'] + IQR*1.5\n",
    "    \n",
    "    good = []    \n",
    "    \n",
    "    for num in numbers:\n",
    "        if num < lowerWhisk or num > upperWhisk:\n",
    "            outliers.append(num)\n",
    "        else:\n",
    "            good.append(num)\n",
    "            \n",
    "    d['Min']= np.quantile(good, 0)\n",
    "    d['Max']= np.quantile(good, 1)\n",
    "    if len(outliers) > 0:\n",
    "        print(\"The following are outliers\",outliers)\n",
    "    return d\n",
    "    "
   ]
  },
  {
   "cell_type": "code",
   "execution_count": 5,
   "metadata": {},
   "outputs": [
    {
     "name": "stdout",
     "output_type": "stream",
     "text": [
      "The following are outliers [0, 0, 14]\n",
      "{'Min': 35.0, 'Q1': 63.0, 'Q2': 78.0, 'Q3': 87.0, 'Max': 100.0}\n"
     ]
    }
   ],
   "source": [
    "print(q_summary_V1(grades))"
   ]
  },
  {
   "cell_type": "code",
   "execution_count": 6,
   "metadata": {},
   "outputs": [
    {
     "name": "stdout",
     "output_type": "stream",
     "text": [
      "The following are outliers [89]\n",
      "{'Min': 5.0, 'Q1': 15.0, 'Q2': 22.5, 'Q3': 41.25, 'Max': 65.0}\n"
     ]
    }
   ],
   "source": [
    "print(q_summary_V1(times))"
   ]
  },
  {
   "cell_type": "code",
   "execution_count": null,
   "metadata": {},
   "outputs": [],
   "source": []
  },
  {
   "cell_type": "code",
   "execution_count": null,
   "metadata": {},
   "outputs": [],
   "source": []
  },
  {
   "cell_type": "code",
   "execution_count": null,
   "metadata": {},
   "outputs": [],
   "source": []
  },
  {
   "cell_type": "markdown",
   "metadata": {},
   "source": [
    "### Please answer Problem 3 below:"
   ]
  },
  {
   "cell_type": "code",
   "execution_count": 7,
   "metadata": {},
   "outputs": [],
   "source": [
    "def get_quantile_indexes(n, p):\n",
    "    '''\n",
    "    Calculate index values as input for interpolation\n",
    "    \n",
    "    input\n",
    "    _____\n",
    "    n (list) - the list of numbers\n",
    "    p (float) - the percentage corresponding to the quantile (ex:0.25)\n",
    "    \n",
    "    output\n",
    "    ______\n",
    "    l, i, u (float) - the corresponding x1, x, x1 values as calculated via class\n",
    "    '''\n",
    "    i = p*(n+1) - 1\n",
    "    l = np.floor(i)\n",
    "    u = np.ceil(i)\n",
    "    return l,i,u\n",
    "\n",
    "\n",
    "def get_quantile(nums, q):\n",
    "    '''\n",
    "    Use the in-class method of interpolation to calculate the quantile\n",
    "    \n",
    "    input\n",
    "    _____\n",
    "    nums (list) - the list of numbers\n",
    "    q (float) - the quantile desired\n",
    "    \n",
    "    output\n",
    "    ______\n",
    "    y (int/float) - this is the value in nums at the given quantile q\n",
    "    '''\n",
    "    x1, x, x2 = get_quantile_indexes(len(nums), q)\n",
    "    if np.floor(x) == x1 and np.ceil(x) == x1:\n",
    "        x = int(x)\n",
    "        y = nums[x]\n",
    "        # print('x = {}, y = {}'.format(x, y))\n",
    "        return y\n",
    "        \n",
    "    # print('x1, x, x2 = {}, {}, {}'.format(x1, x, x2))\n",
    "    y1, y2 = nums[int(x1)], nums[int(x2)]\n",
    "    # print('y1, y2 = {}, {}'.format(y1, y2))\n",
    "    y = (x - x1) * (y1-y2) / (x1 - x2) + y1\n",
    "    # print('y =', y)\n",
    "    return y"
   ]
  },
  {
   "cell_type": "code",
   "execution_count": 8,
   "metadata": {},
   "outputs": [],
   "source": [
    "def q_summary_V2 (numbers):\n",
    "    d = {}\n",
    "    outliers = []\n",
    "    d['Min']= get_quantile(numbers, 0)\n",
    "    d['Q1'] = get_quantile(numbers, .25)\n",
    "    d['Q2'] = get_quantile(numbers, .50)\n",
    "    d['Q3'] = get_quantile(numbers, .75)\n",
    "    d['Max']= numbers[-1]\n",
    "    \n",
    "    IQR = d['Q3'] - d['Q1']\n",
    "    lowerWhisk = d['Q1'] - IQR*1.5\n",
    "    upperWhisk = d['Q3'] + IQR*1.5\n",
    "    \n",
    "    good = []    \n",
    "    \n",
    "    for num in numbers:\n",
    "        if num < lowerWhisk or num > upperWhisk:\n",
    "            outliers.append(num)\n",
    "        else:\n",
    "            good.append(num)\n",
    "            \n",
    "    d['Min']= good[0]\n",
    "    d['Max']= good[-1]\n",
    "    if len(outliers) > 0:\n",
    "        print(\"The following are outliers\",outliers)\n",
    "    return d\n",
    "    "
   ]
  },
  {
   "cell_type": "code",
   "execution_count": 9,
   "metadata": {},
   "outputs": [
    {
     "name": "stdout",
     "output_type": "stream",
     "text": [
      "{'Min': 0, 'Q1': 49.0, 'Q2': 78, 'Q3': 88.0, 'Max': 100}\n"
     ]
    }
   ],
   "source": [
    "print(q_summary_V2(grades))"
   ]
  },
  {
   "cell_type": "code",
   "execution_count": 10,
   "metadata": {},
   "outputs": [
    {
     "name": "stdout",
     "output_type": "stream",
     "text": [
      "The following are outliers [89]\n",
      "{'Min': 5, 'Q1': 15.0, 'Q2': 22.5, 'Q3': 43.75, 'Max': 65}\n"
     ]
    }
   ],
   "source": [
    "print(q_summary_V2(times))"
   ]
  },
  {
   "cell_type": "code",
   "execution_count": null,
   "metadata": {},
   "outputs": [],
   "source": []
  }
 ],
 "metadata": {
  "kernelspec": {
   "display_name": "Python 3",
   "language": "python",
   "name": "python3"
  },
  "language_info": {
   "codemirror_mode": {
    "name": "ipython",
    "version": 3
   },
   "file_extension": ".py",
   "mimetype": "text/x-python",
   "name": "python",
   "nbconvert_exporter": "python",
   "pygments_lexer": "ipython3",
   "version": "3.7.4"
  }
 },
 "nbformat": 4,
 "nbformat_minor": 2
}
