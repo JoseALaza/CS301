{
 "cells": [
  {
   "cell_type": "code",
   "execution_count": 1,
   "metadata": {},
   "outputs": [],
   "source": [
    "# HW03 Solution\n",
    "# Importas CSV data with exception handling and statistical analysis.\n",
    "# https://github.com/JoseALaza/CS301/\n",
    "# https://github.com/JoseALaza/CS301/HW3.ipynb/82f47a085c4ac7bfd0cdaf5c92afaa87202c3a93\n",
    "# master"
   ]
  },
  {
   "cell_type": "code",
   "execution_count": 2,
   "metadata": {},
   "outputs": [],
   "source": [
    "import pandas as pd\n",
    "\n",
    "def data_reader(data_path):\n",
    "    try:\n",
    "        dataDf = pd.read_csv(data_path)\n",
    "        print('The shape is:',dataDf.shape)        \n",
    "        return dataDf\n",
    "    except:\n",
    "        print('Error during reading, please try again')\n",
    "        return None"
   ]
  },
  {
   "cell_type": "code",
   "execution_count": 3,
   "metadata": {},
   "outputs": [
    {
     "name": "stdout",
     "output_type": "stream",
     "text": [
      "Error during reading, please try again\n",
      "The shape is: (193, 6)\n"
     ]
    }
   ],
   "source": [
    "my = data_reader('idk.csv')\n",
    "test = data_reader('/home/jose/Documents/CS301/drinks.csv')"
   ]
  },
  {
   "cell_type": "code",
   "execution_count": 6,
   "metadata": {},
   "outputs": [],
   "source": [
    "def get_num_outliers(df, col):\n",
    "    colAna = df[col]\n",
    "    numSummary = colAna.describe()\n",
    "    q1 = numSummary.loc['25%']\n",
    "    q3 = numSummary.loc['75%']\n",
    "    IQR = q3 - q1\n",
    "    detect = (colAna<(q1 - 1.5 * IQR))|(colAna>(q3 + 1.5 * IQR))\n",
    "    \n",
    "    return detect.value_counts().loc[True]"
   ]
  },
  {
   "cell_type": "code",
   "execution_count": 7,
   "metadata": {},
   "outputs": [
    {
     "data": {
      "text/plain": [
       "26"
      ]
     },
     "execution_count": 7,
     "metadata": {},
     "output_type": "execute_result"
    }
   ],
   "source": [
    "get_num_outliers(test,'wine_servings')"
   ]
  },
  {
   "cell_type": "code",
   "execution_count": 11,
   "metadata": {},
   "outputs": [],
   "source": [
    "def get_num_deviants(df, col, multiplier):\n",
    "    colAna = df[col]\n",
    "    colMean = colAna.mean()\n",
    "    colStd = colAna.std()\n",
    "    \n",
    "    detect = ((colAna>(colMean + multiplier*colStd) )|(colAna<colMean - multiplier*colStd ) )\n",
    "    return detect.value_counts().loc[True]"
   ]
  },
  {
   "cell_type": "code",
   "execution_count": 29,
   "metadata": {},
   "outputs": [
    {
     "data": {
      "text/plain": [
       "28"
      ]
     },
     "execution_count": 29,
     "metadata": {},
     "output_type": "execute_result"
    }
   ],
   "source": [
    "get_num_deviants(test,'wine_servings',1)"
   ]
  }
 ],
 "metadata": {
  "kernelspec": {
   "display_name": "Python 3",
   "language": "python",
   "name": "python3"
  },
  "language_info": {
   "codemirror_mode": {
    "name": "ipython",
    "version": 3
   },
   "file_extension": ".py",
   "mimetype": "text/x-python",
   "name": "python",
   "nbconvert_exporter": "python",
   "pygments_lexer": "ipython3",
   "version": "3.7.4"
  }
 },
 "nbformat": 4,
 "nbformat_minor": 2
}
